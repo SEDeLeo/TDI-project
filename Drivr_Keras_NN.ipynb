{
 "cells": [
  {
   "cell_type": "code",
   "execution_count": 1,
   "metadata": {},
   "outputs": [
    {
     "name": "stderr",
     "output_type": "stream",
     "text": [
      "Using TensorFlow backend.\n"
     ]
    }
   ],
   "source": [
    "import pandas as pd\n",
    "from sklearn.preprocessing import MinMaxScaler\n",
    "from sklearn.metrics import r2_score\n",
    "from keras.models import Sequential\n",
    "from keras.layers import Dense\n",
    "from keras.callbacks import EarlyStopping\n",
    "import matplotlib.pyplot as plt\n",
    "from datetime import datetime\n",
    "from sklearn.model_selection import train_test_split"
   ]
  },
  {
   "cell_type": "markdown",
   "metadata": {},
   "source": [
    "# Drivr \n",
    "## An interactive predictive model to give rideshare drivers more control over their day\n",
    "\n",
    "### Time series predictions using a deep neural network (via keras) for each region. My current model for fares yields gives over 80% accuracy on the my test data.\n"
   ]
  },
  {
   "cell_type": "markdown",
   "metadata": {},
   "source": [
    "#### Load in and Clean Data"
   ]
  },
  {
   "cell_type": "code",
   "execution_count": 4,
   "metadata": {},
   "outputs": [],
   "source": [
    "filename = 'Transportation_Network_Providers_Trips.csv'\n",
    "raw_df = pd.read_csv(filename,\n",
    "#                       nrows=15000000,\n",
    "                     usecols=['Trip ID',\n",
    "                              'Fare','Tip',\n",
    "                              'Trip Total', \n",
    "                              'Trip Start Timestamp',\n",
    "                              'Pickup Community Area',\n",
    "                              'Dropoff Community Area'])"
   ]
  },
  {
   "cell_type": "code",
   "execution_count": null,
   "metadata": {},
   "outputs": [],
   "source": [
    "plt.figure(figsize=(10, 6))\n",
    "raw_df['Fare'].plot();"
   ]
  },
  {
   "cell_type": "code",
   "execution_count": 5,
   "metadata": {},
   "outputs": [],
   "source": [
    "def clean_data(raw_data, region=8.0, metric='Fare'):\n",
    "    area_df = raw_df[raw_df['Pickup Community Area'] == region]\n",
    "    \n",
    "    metric_df = area_df[['Trip Start Timestamp', metric]].copy()\n",
    "    metric_df = metric_df.dropna()\n",
    "    metric_df.reset_index(inplace=True, drop=True)\n",
    "    metric_df['datetime'] = metric_df['Trip Start Timestamp'].apply(lambda x : datetime.strptime(x,\"%m/%d/%Y %I:%M:%S %p\"))\n",
    "\n",
    "    grouped_df = metric_df[['datetime', metric]].groupby('datetime').mean() #or reduc_df\n",
    "    grouped_df.reset_index(inplace=True)\n",
    "    grouped_df.columns = ['datetime', 'metric']\n",
    "    return grouped_df\n",
    "\n",
    "def scale_data(train_data, test_data):\n",
    "    '''\n",
    "    This function takes the train and test data and scales the values to [-1, 1]\n",
    "    The input arrays must be of shape (N_samples, 1) (may need to do something like train.values.reshape(-1,1))\n",
    "    Returns:\n",
    "        X_train: scaled train inputs\n",
    "        y_train: scaled train targets\n",
    "        X_test: scaled test inputs\n",
    "        y_train: scaled train targets\n",
    "    '''\n",
    "    scaler = MinMaxScaler(feature_range=(-1, 1))\n",
    "    train_sc = scaler.fit_transform(train_data)\n",
    "    test_sc = scaler.transform(test_data)\n",
    "    \n",
    "    X_train = train_sc[:-1]\n",
    "    y_train = train_sc[1:]\n",
    "\n",
    "    X_test = test_sc[:-1]\n",
    "    y_test = test_sc[1:]\n",
    "    \n",
    "    return X_train, y_train, X_test, y_test\n",
    "\n",
    "def create_train_test_data(cleaned_data, test_size=1000):\n",
    "    train = cleaned_data['metric'][:-test_size]\n",
    "    test = cleaned_data['metric'][test_size:]\n",
    "\n",
    "    train = train.values.reshape(-1,1)\n",
    "    test = test.values.reshape(-1,1)\n",
    "    \n",
    "    X_train, y_train, X_test, y_test = scale_data(train, test)\n",
    "    return X_train, y_train, X_test, y_test\n",
    "\n",
    "def fit_model(X_train, y_train):\n",
    "    '''\n",
    "    Function that fits a Sequential neural net on training data and returns a trained model\n",
    "    '''\n",
    "    nn_model = Sequential()\n",
    "    nn_model.add(Dense(12, input_dim=1, activation='relu'))\n",
    "    nn_model.add(Dense(1))\n",
    "    nn_model.compile(loss='mean_squared_error', optimizer='adam')\n",
    "    early_stop = EarlyStopping(monitor='loss', patience=2, verbose=1)\n",
    "    history = nn_model.fit(X_train, y_train, epochs=100, batch_size=100,\n",
    "                           verbose=1, callbacks=[early_stop], shuffle=True)\n",
    "    nn_model.save('./nn_mod_reg'+str(region)+'_tip.h5')\n",
    "    return nn_model\n",
    "\n"
   ]
  },
  {
   "cell_type": "markdown",
   "metadata": {},
   "source": [
    "#### Insert region numbers to run model over each. Train and pickle regions for faster access. Limit test_size to improve runtime."
   ]
  },
  {
   "cell_type": "code",
   "execution_count": 6,
   "metadata": {},
   "outputs": [
    {
     "name": "stdout",
     "output_type": "stream",
     "text": [
      "Epoch 1/100\n",
      "13188/13188 [==============================] - 0s 32us/step - loss: 0.5544\n",
      "Epoch 2/100\n",
      "13188/13188 [==============================] - 0s 15us/step - loss: 0.1138: 0s - loss: 0.134\n",
      "Epoch 3/100\n",
      "13188/13188 [==============================] - 0s 14us/step - loss: 0.0107\n",
      "Epoch 4/100\n",
      "13188/13188 [==============================] - 0s 15us/step - loss: 0.0092\n",
      "Epoch 5/100\n",
      "13188/13188 [==============================] - 0s 14us/step - loss: 0.0088\n",
      "Epoch 6/100\n",
      "13188/13188 [==============================] - 0s 12us/step - loss: 0.0084\n",
      "Epoch 7/100\n",
      "13188/13188 [==============================] - 0s 13us/step - loss: 0.0084\n",
      "Epoch 8/100\n",
      "13188/13188 [==============================] - 0s 11us/step - loss: 0.0084\n",
      "Epoch 9/100\n",
      "13188/13188 [==============================] - 0s 11us/step - loss: 0.0083\n",
      "Epoch 10/100\n",
      "13188/13188 [==============================] - 0s 13us/step - loss: 0.0083\n",
      "Epoch 11/100\n",
      "13188/13188 [==============================] - 0s 12us/step - loss: 0.0084\n",
      "Epoch 00011: early stopping\n"
     ]
    }
   ],
   "source": [
    "regions = [70.0, 71.0, 72.0, 73.0, 74.0, 75.0, 76.0, 77.0] #Regions 1-77\n",
    "test_size=10000\n",
    "\n",
    "for region in regions:\n",
    "\n",
    "    cleaned_data = clean_data(raw_df, region, 'Tip')\n",
    "    X_train, y_train, X_test, y_test = create_train_test_data(cleaned_data)\n",
    "    model = fit_model(X_train, y_train)"
   ]
  },
  {
   "cell_type": "code",
   "execution_count": 123,
   "metadata": {},
   "outputs": [],
   "source": [
    "from keras.models import load_model\n",
    "model = load_model('./nn_mod_reg71.0_tip.h5')"
   ]
  },
  {
   "cell_type": "code",
   "execution_count": 124,
   "metadata": {},
   "outputs": [
    {
     "name": "stdout",
     "output_type": "stream",
     "text": [
      "The R2 score on the Train set is:\t0.833\n",
      "The R2 score on the Test set is:\t0.830\n"
     ]
    }
   ],
   "source": [
    "y_pred_test_nn = model.predict(X_test)\n",
    "y_train_pred_nn = model.predict(X_train)\n",
    "print(\"The R2 score on the Train set is:\\t{:0.3f}\".format(r2_score(y_train, y_train_pred_nn)))\n",
    "print(\"The R2 score on the Test set is:\\t{:0.3f}\".format(r2_score(y_test, y_pred_test_nn)))"
   ]
  }
 ],
 "metadata": {
  "kernelspec": {
   "display_name": "Python 3",
   "language": "python",
   "name": "python3"
  },
  "language_info": {
   "codemirror_mode": {
    "name": "ipython",
    "version": 3
   },
   "file_extension": ".py",
   "mimetype": "text/x-python",
   "name": "python",
   "nbconvert_exporter": "python",
   "pygments_lexer": "ipython3",
   "version": "3.7.4"
  }
 },
 "nbformat": 4,
 "nbformat_minor": 2
}
